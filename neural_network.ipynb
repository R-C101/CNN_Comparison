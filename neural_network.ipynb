{
 "cells": [
  {
   "cell_type": "code",
   "execution_count": 3,
   "metadata": {},
   "outputs": [
    {
     "name": "stdout",
     "output_type": "stream",
     "text": [
      "A data: [5.1 3.5 1.4 0.2] \n",
      "Label: 0\n"
     ]
    }
   ],
   "source": [
    "\n",
    "from sklearn import datasets\n",
    "iris = datasets.load_iris()\n",
    "X = iris.data # features, 'sepal length (cm)', 'sepal width (cm)', 'petal length (cm)', 'petal width (cm)'\n",
    "y = iris.target # label, 'setosa' 'versicolor' 'virginica'\n",
    "\n",
    "print('A data:', X[0], '\\nLabel:', y[0])\n"
   ]
  },
  {
   "cell_type": "code",
   "execution_count": 4,
   "metadata": {},
   "outputs": [
    {
     "name": "stdout",
     "output_type": "stream",
     "text": [
      "[1 1 1 1 1 1 1 1 1 1 1 1 1 1 1 1 1 1 1 1 1 1 1 1 1 1 1 1 1 1 1 1 1 1 1 1 1\n",
      " 1 1 1 1 1 1 1 1 1 1 1 1 1 0 0 0 0 0 0 0 0 0 0 0 0 0 0 0 0 0 0 0 0 0 0 0 0\n",
      " 0 0 0 0 0 0 0 0 0 0 0 0 0 0 0 0 0 0 0 0 0 0 0 0 0 0 0 0 0 0 0 0 0 0 0 0 0\n",
      " 0 0 0 0 0 0 0 0 0 0 0 0 0 0 0 0 0 0 0 0 0 0 0 0 0 0 0 0 0 0 0 0 0 0 0 0 0\n",
      " 0 0]\n"
     ]
    }
   ],
   "source": [
    "import numpy as np\n",
    "re_y = np.array([1 if i==0 else 0 for i in y]) # relabel, 'setosa':1, 'not setosa':0\n",
    "print(re_y)"
   ]
  },
  {
   "cell_type": "code",
   "execution_count": 7,
   "metadata": {},
   "outputs": [],
   "source": [
    "\n",
    "class my_NN(object):\n",
    "    def __init__(self):\n",
    "        self.input = 4 \n",
    "        self.output = 1 \n",
    "        self.hidden_units = 6 \n",
    "        \n",
    "        \n",
    "        np.random.seed(1) \n",
    "         \n",
    "        self.w1 = np.random.randn(self.input, self.hidden_units) \n",
    "        \n",
    "        self.w2 = np.random.randn(self.hidden_units, self.output) \n",
    "        \n",
    "\n",
    "    def _forward_propagation(self, X):\n",
    "        self.z2 = np.dot(self.w1.T, X.T)\n",
    "        self.a2 = self._sigmoid(self.z2) \n",
    "        self.z3 = np.dot(self.w2.T, self.a2)\n",
    "        self.a3 = self._sigmoid(self.z3)\n",
    "        return self.a3\n",
    "\n",
    "    def _sigmoid(self, z):\n",
    "        return 1/(1+np.exp(-z))\n",
    "\n",
    "    def _loss(self, predict, y):\n",
    "        m = y.shape[0]\n",
    "        logprobs = np.multiply(np.log(predict), y) + np.multiply((1 - y), np.log(1 - predict))\n",
    "        loss = - np.sum(logprobs) / m\n",
    "        return loss\n",
    "\n",
    "\n",
    "    def _update(self, learning_rate=1.2):\n",
    "        self.w1 = self.w1 - learning_rate*self.dw1\n",
    "        self.w2 = self.w2 - learning_rate*self.dw2\n",
    "  \n",
    "    def _backward_propagation(self, X, y):\n",
    "        predict = self._forward_propagation(X)\n",
    "        m = X.shape[0]\n",
    "        delta3 = predict - y\n",
    "        dz3 = np.multiply(delta3, self._sigmoid_prime(self.z3))\n",
    "        self.dw2 = (1/m)*np.sum(np.multiply(self.a2, dz3), axis=1).reshape(self.w2.shape)\n",
    "        \n",
    "        delta2 = delta3*self.w2*self._sigmoid_prime(self.z2)\n",
    "        self.dw1 = (1/m)*np.dot(X.T, delta2.T)\n",
    "        \n",
    "    def _sigmoid_prime(self, z):\n",
    "        return self._sigmoid(z)*(1-self._sigmoid(z))\n",
    "\n",
    "    def train(self, X, y, iteration=33):\n",
    "        for i in range(iteration):\n",
    "            y_hat = self._forward_propagation(X)\n",
    "            loss = self._loss(y_hat, y)\n",
    "            self._backward_propagation(X,y)\n",
    "            self._update()\n",
    "            if i%10==0:\n",
    "                print(\"loss: \", loss)\n",
    "                \n",
    "    def predict(self, X):\n",
    "        y_hat = self._forward_propagation(X)\n",
    "        y_hat = [1 if i[0] >= 0.5 else 0 for i in y_hat.T]\n",
    "        return np.array(y_hat)\n",
    "    \n",
    "    def score(self, predict, y):\n",
    "        cnt = np.sum(predict==y)\n",
    "        return (cnt/len(y))*100"
   ]
  },
  {
   "cell_type": "code",
   "execution_count": 10,
   "metadata": {},
   "outputs": [
    {
     "name": "stdout",
     "output_type": "stream",
     "text": [
      "loss:  0.834411714317027\n",
      "loss:  0.5302817062634734\n",
      "loss:  0.45183616462918164\n",
      "loss:  0.3947019233771704\n",
      "predict:  [0 1 1 0 0 0 0 0 0 1 0 1 0 0 0 1 0 0 0 1 1 0 0 0 0 1 0 0 0 0 1 0 1 1 0 0 0\n",
      " 1]\n",
      "answer: [0 1 1 0 0 0 0 1 0 1 0 1 0 0 0 1 0 0 1 1 1 0 0 1 0 1 0 0 0 0 1 0 1 1 0 1 1\n",
      " 1]\n",
      "score:  86.8421052631579\n"
     ]
    }
   ],
   "source": [
    "from sklearn.model_selection import train_test_split\n",
    "\n",
    "train_X, test_X, train_y, test_y = train_test_split(X, re_y, test_size=0.25) # split training data and testing data\n",
    "clr = my_NN() #initialize the model\n",
    "clr.train(train_X, train_y) # train model\n",
    "pre_y = clr.predict(test_X) # predict\n",
    "score = clr.score(pre_y, test_y) # get the accuracy score\n",
    "print('predict: ', pre_y)\n",
    "print('answer:', test_y)\n",
    "print('score: ', score)"
   ]
  }
 ],
 "metadata": {
  "kernelspec": {
   "display_name": "Python 3",
   "language": "python",
   "name": "python3"
  },
  "language_info": {
   "codemirror_mode": {
    "name": "ipython",
    "version": 3
   },
   "file_extension": ".py",
   "mimetype": "text/x-python",
   "name": "python",
   "nbconvert_exporter": "python",
   "pygments_lexer": "ipython3",
   "version": "3.11.7"
  }
 },
 "nbformat": 4,
 "nbformat_minor": 2
}
