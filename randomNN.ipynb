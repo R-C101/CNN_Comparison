{
 "cells": [
  {
   "cell_type": "code",
   "execution_count": 9,
   "metadata": {},
   "outputs": [],
   "source": [
    "import numpy as np\n",
    "import matplotlib.pyplot as plt\n",
    "\n",
    "import tensorflow as tf\n",
    "from tensorflow.keras.models import Sequential\n",
    "from tensorflow.keras.layers import Dense\n",
    "\n",
    "from sklearn.datasets import make_blobs\n",
    "%matplotlib widget\n",
    "from matplotlib.widgets import Slider\n",
    "\n",
    "import logging\n",
    "logging.getLogger(\"tensorflow\").setLevel(logging.ERROR)\n",
    "tf.autograph.set_verbosity(0)"
   ]
  },
  {
   "cell_type": "code",
   "execution_count": 8,
   "metadata": {},
   "outputs": [
    {
     "name": "stdout",
     "output_type": "stream",
     "text": [
      "\u001b[33mWARNING: Ignoring invalid distribution -orch (/Users/rishit/miniforge3/envs/mlp/lib/python3.8/site-packages)\u001b[0m\u001b[33m\n",
      "\u001b[0mCollecting ipympl\n",
      "  Downloading ipympl-0.9.3-py2.py3-none-any.whl (511 kB)\n",
      "\u001b[2K     \u001b[90m━━━━━━━━━━━━━━━━━━━━━━━━━━━━━━━━━━━━━\u001b[0m \u001b[32m511.6/511.6 kB\u001b[0m \u001b[31m280.2 kB/s\u001b[0m eta \u001b[36m0:00:00\u001b[0ma \u001b[36m0:00:01\u001b[0m\n",
      "\u001b[?25hRequirement already satisfied: ipython<9 in /Users/rishit/miniforge3/envs/mlp/lib/python3.8/site-packages (from ipympl) (8.12.2)\n",
      "Requirement already satisfied: numpy in /Users/rishit/miniforge3/envs/mlp/lib/python3.8/site-packages (from ipympl) (1.24.3)\n",
      "Requirement already satisfied: ipython-genutils in /Users/rishit/miniforge3/envs/mlp/lib/python3.8/site-packages (from ipympl) (0.2.0)\n",
      "Requirement already satisfied: pillow in /Users/rishit/miniforge3/envs/mlp/lib/python3.8/site-packages (from ipympl) (9.5.0)\n",
      "Requirement already satisfied: traitlets<6 in /Users/rishit/miniforge3/envs/mlp/lib/python3.8/site-packages (from ipympl) (5.9.0)\n",
      "Requirement already satisfied: ipywidgets<9,>=7.6.0 in /Users/rishit/miniforge3/envs/mlp/lib/python3.8/site-packages (from ipympl) (8.0.6)\n",
      "Requirement already satisfied: matplotlib<4,>=3.4.0 in /Users/rishit/miniforge3/envs/mlp/lib/python3.8/site-packages (from ipympl) (3.7.1)\n",
      "Requirement already satisfied: backcall in /Users/rishit/miniforge3/envs/mlp/lib/python3.8/site-packages (from ipython<9->ipympl) (0.2.0)\n",
      "Requirement already satisfied: decorator in /Users/rishit/miniforge3/envs/mlp/lib/python3.8/site-packages (from ipython<9->ipympl) (5.1.1)\n",
      "Requirement already satisfied: jedi>=0.16 in /Users/rishit/miniforge3/envs/mlp/lib/python3.8/site-packages (from ipython<9->ipympl) (0.18.2)\n",
      "Requirement already satisfied: matplotlib-inline in /Users/rishit/miniforge3/envs/mlp/lib/python3.8/site-packages (from ipython<9->ipympl) (0.1.6)\n",
      "Requirement already satisfied: pickleshare in /Users/rishit/miniforge3/envs/mlp/lib/python3.8/site-packages (from ipython<9->ipympl) (0.7.5)\n",
      "Requirement already satisfied: prompt-toolkit!=3.0.37,<3.1.0,>=3.0.30 in /Users/rishit/miniforge3/envs/mlp/lib/python3.8/site-packages (from ipython<9->ipympl) (3.0.38)\n",
      "Requirement already satisfied: pygments>=2.4.0 in /Users/rishit/miniforge3/envs/mlp/lib/python3.8/site-packages (from ipython<9->ipympl) (2.15.1)\n",
      "Requirement already satisfied: stack-data in /Users/rishit/miniforge3/envs/mlp/lib/python3.8/site-packages (from ipython<9->ipympl) (0.6.2)\n",
      "Requirement already satisfied: typing-extensions in /Users/rishit/miniforge3/envs/mlp/lib/python3.8/site-packages (from ipython<9->ipympl) (4.5.0)\n",
      "Requirement already satisfied: pexpect>4.3 in /Users/rishit/miniforge3/envs/mlp/lib/python3.8/site-packages (from ipython<9->ipympl) (4.8.0)\n",
      "Requirement already satisfied: appnope in /Users/rishit/miniforge3/envs/mlp/lib/python3.8/site-packages (from ipython<9->ipympl) (0.1.3)\n",
      "Requirement already satisfied: ipykernel>=4.5.1 in /Users/rishit/miniforge3/envs/mlp/lib/python3.8/site-packages (from ipywidgets<9,>=7.6.0->ipympl) (6.22.0)\n",
      "Requirement already satisfied: widgetsnbextension~=4.0.7 in /Users/rishit/miniforge3/envs/mlp/lib/python3.8/site-packages (from ipywidgets<9,>=7.6.0->ipympl) (4.0.7)\n",
      "Requirement already satisfied: jupyterlab-widgets~=3.0.7 in /Users/rishit/miniforge3/envs/mlp/lib/python3.8/site-packages (from ipywidgets<9,>=7.6.0->ipympl) (3.0.7)\n",
      "Requirement already satisfied: contourpy>=1.0.1 in /Users/rishit/miniforge3/envs/mlp/lib/python3.8/site-packages (from matplotlib<4,>=3.4.0->ipympl) (1.0.7)\n",
      "Requirement already satisfied: cycler>=0.10 in /Users/rishit/miniforge3/envs/mlp/lib/python3.8/site-packages (from matplotlib<4,>=3.4.0->ipympl) (0.10.0)\n",
      "Requirement already satisfied: fonttools>=4.22.0 in /Users/rishit/miniforge3/envs/mlp/lib/python3.8/site-packages (from matplotlib<4,>=3.4.0->ipympl) (4.39.3)\n",
      "Requirement already satisfied: kiwisolver>=1.0.1 in /Users/rishit/miniforge3/envs/mlp/lib/python3.8/site-packages (from matplotlib<4,>=3.4.0->ipympl) (1.4.4)\n",
      "Requirement already satisfied: packaging>=20.0 in /Users/rishit/miniforge3/envs/mlp/lib/python3.8/site-packages (from matplotlib<4,>=3.4.0->ipympl) (23.2)\n",
      "Requirement already satisfied: pyparsing>=2.3.1 in /Users/rishit/miniforge3/envs/mlp/lib/python3.8/site-packages (from matplotlib<4,>=3.4.0->ipympl) (2.4.7)\n",
      "Requirement already satisfied: python-dateutil>=2.7 in /Users/rishit/miniforge3/envs/mlp/lib/python3.8/site-packages (from matplotlib<4,>=3.4.0->ipympl) (2.8.2)\n",
      "Requirement already satisfied: importlib-resources>=3.2.0 in /Users/rishit/miniforge3/envs/mlp/lib/python3.8/site-packages (from matplotlib<4,>=3.4.0->ipympl) (5.12.0)\n",
      "Requirement already satisfied: six in /Users/rishit/miniforge3/envs/mlp/lib/python3.8/site-packages (from cycler>=0.10->matplotlib<4,>=3.4.0->ipympl) (1.16.0)\n",
      "Requirement already satisfied: zipp>=3.1.0 in /Users/rishit/miniforge3/envs/mlp/lib/python3.8/site-packages (from importlib-resources>=3.2.0->matplotlib<4,>=3.4.0->ipympl) (3.15.0)\n",
      "Requirement already satisfied: comm>=0.1.1 in /Users/rishit/miniforge3/envs/mlp/lib/python3.8/site-packages (from ipykernel>=4.5.1->ipywidgets<9,>=7.6.0->ipympl) (0.1.3)\n",
      "Requirement already satisfied: debugpy>=1.6.5 in /Users/rishit/miniforge3/envs/mlp/lib/python3.8/site-packages (from ipykernel>=4.5.1->ipywidgets<9,>=7.6.0->ipympl) (1.6.7)\n",
      "Requirement already satisfied: jupyter-client>=6.1.12 in /Users/rishit/miniforge3/envs/mlp/lib/python3.8/site-packages (from ipykernel>=4.5.1->ipywidgets<9,>=7.6.0->ipympl) (8.2.0)\n",
      "Requirement already satisfied: jupyter-core!=5.0.*,>=4.12 in /Users/rishit/miniforge3/envs/mlp/lib/python3.8/site-packages (from ipykernel>=4.5.1->ipywidgets<9,>=7.6.0->ipympl) (5.3.0)\n",
      "Requirement already satisfied: nest-asyncio in /Users/rishit/miniforge3/envs/mlp/lib/python3.8/site-packages (from ipykernel>=4.5.1->ipywidgets<9,>=7.6.0->ipympl) (1.5.6)\n",
      "Requirement already satisfied: psutil in /Users/rishit/miniforge3/envs/mlp/lib/python3.8/site-packages (from ipykernel>=4.5.1->ipywidgets<9,>=7.6.0->ipympl) (5.9.5)\n",
      "Requirement already satisfied: pyzmq>=20 in /Users/rishit/miniforge3/envs/mlp/lib/python3.8/site-packages (from ipykernel>=4.5.1->ipywidgets<9,>=7.6.0->ipympl) (25.0.2)\n",
      "Requirement already satisfied: tornado>=6.1 in /Users/rishit/miniforge3/envs/mlp/lib/python3.8/site-packages (from ipykernel>=4.5.1->ipywidgets<9,>=7.6.0->ipympl) (6.3)\n",
      "Requirement already satisfied: parso<0.9.0,>=0.8.0 in /Users/rishit/miniforge3/envs/mlp/lib/python3.8/site-packages (from jedi>=0.16->ipython<9->ipympl) (0.8.3)\n",
      "Requirement already satisfied: ptyprocess>=0.5 in /Users/rishit/miniforge3/envs/mlp/lib/python3.8/site-packages (from pexpect>4.3->ipython<9->ipympl) (0.7.0)\n",
      "Requirement already satisfied: wcwidth in /Users/rishit/miniforge3/envs/mlp/lib/python3.8/site-packages (from prompt-toolkit!=3.0.37,<3.1.0,>=3.0.30->ipython<9->ipympl) (0.2.6)\n",
      "Requirement already satisfied: executing>=1.2.0 in /Users/rishit/miniforge3/envs/mlp/lib/python3.8/site-packages (from stack-data->ipython<9->ipympl) (1.2.0)\n",
      "Requirement already satisfied: asttokens>=2.1.0 in /Users/rishit/miniforge3/envs/mlp/lib/python3.8/site-packages (from stack-data->ipython<9->ipympl) (2.2.1)\n",
      "Requirement already satisfied: pure-eval in /Users/rishit/miniforge3/envs/mlp/lib/python3.8/site-packages (from stack-data->ipython<9->ipympl) (0.2.2)\n",
      "Requirement already satisfied: importlib-metadata>=4.8.3 in /Users/rishit/miniforge3/envs/mlp/lib/python3.8/site-packages (from jupyter-client>=6.1.12->ipykernel>=4.5.1->ipywidgets<9,>=7.6.0->ipympl) (6.6.0)\n",
      "Requirement already satisfied: platformdirs>=2.5 in /Users/rishit/miniforge3/envs/mlp/lib/python3.8/site-packages (from jupyter-core!=5.0.*,>=4.12->ipykernel>=4.5.1->ipywidgets<9,>=7.6.0->ipympl) (3.5.0)\n",
      "\u001b[33mWARNING: Ignoring invalid distribution -orch (/Users/rishit/miniforge3/envs/mlp/lib/python3.8/site-packages)\u001b[0m\u001b[33m\n",
      "\u001b[0mInstalling collected packages: ipympl\n",
      "Successfully installed ipympl-0.9.3\n"
     ]
    }
   ],
   "source": [
    "!pip install ipympl\n"
   ]
  },
  {
   "cell_type": "code",
   "execution_count": 10,
   "metadata": {},
   "outputs": [],
   "source": [
    "centers = [[-5, 2], [-2, -2], [1, 2], [5, -2]]\n",
    "X_train, y_train = make_blobs(n_samples=2000, centers=centers, cluster_std=1.0,random_state=30)"
   ]
  },
  {
   "cell_type": "code",
   "execution_count": 11,
   "metadata": {},
   "outputs": [
    {
     "name": "stderr",
     "output_type": "stream",
     "text": [
      "WARNING:absl:At this time, the v2.11+ optimizer `tf.keras.optimizers.Adam` runs slowly on M1/M2 Macs, please use the legacy Keras optimizer instead, located at `tf.keras.optimizers.legacy.Adam`.\n",
      "WARNING:absl:There is a known slowdown when using v2.11+ Keras optimizers on M1/M2 Macs. Falling back to the legacy Keras optimizer, i.e., `tf.keras.optimizers.legacy.Adam`.\n"
     ]
    },
    {
     "name": "stdout",
     "output_type": "stream",
     "text": [
      "Metal device set to: Apple M1\n",
      "\n",
      "systemMemory: 8.00 GB\n",
      "maxCacheSize: 2.67 GB\n",
      "\n",
      "Epoch 1/10\n",
      "63/63 [==============================] - 7s 29ms/step - loss: 1.2395\n",
      "Epoch 2/10\n",
      "63/63 [==============================] - 0s 8ms/step - loss: 0.4793\n",
      "Epoch 3/10\n",
      "63/63 [==============================] - 1s 9ms/step - loss: 0.2124\n",
      "Epoch 4/10\n",
      "63/63 [==============================] - 1s 8ms/step - loss: 0.1166\n",
      "Epoch 5/10\n",
      "63/63 [==============================] - 1s 9ms/step - loss: 0.0765\n",
      "Epoch 6/10\n",
      "63/63 [==============================] - 0s 8ms/step - loss: 0.0609\n",
      "Epoch 7/10\n",
      "63/63 [==============================] - 0s 8ms/step - loss: 0.0521\n",
      "Epoch 8/10\n",
      "63/63 [==============================] - 0s 8ms/step - loss: 0.0462\n",
      "Epoch 9/10\n",
      "63/63 [==============================] - 0s 7ms/step - loss: 0.0416\n",
      "Epoch 10/10\n",
      "63/63 [==============================] - 1s 8ms/step - loss: 0.0382\n"
     ]
    },
    {
     "data": {
      "text/plain": [
       "<keras.src.callbacks.History at 0x299cd8790>"
      ]
     },
     "execution_count": 11,
     "metadata": {},
     "output_type": "execute_result"
    }
   ],
   "source": [
    "model = Sequential(\n",
    "    [ \n",
    "        Dense(25, activation = 'relu'),\n",
    "        Dense(15, activation = 'relu'),\n",
    "        Dense(4, activation = 'softmax')    # < softmax activation here\n",
    "    ]\n",
    ")\n",
    "model.compile(\n",
    "    loss=tf.keras.losses.SparseCategoricalCrossentropy(),\n",
    "    optimizer=tf.keras.optimizers.Adam(0.001),\n",
    ")\n",
    "\n",
    "model.fit(\n",
    "    X_train,y_train,\n",
    "    epochs=10\n",
    ")"
   ]
  },
  {
   "cell_type": "code",
   "execution_count": 12,
   "metadata": {},
   "outputs": [
    {
     "name": "stdout",
     "output_type": "stream",
     "text": [
      "63/63 [==============================] - 1s 8ms/step\n",
      "[[2.2130159e-03 5.5222400e-03 9.8189974e-01 1.0365018e-02]\n",
      " [9.9142742e-01 8.4874080e-03 8.5081454e-05 9.0676039e-08]]\n",
      "largest value 0.99999857 smallest value 4.5952513e-12\n"
     ]
    }
   ],
   "source": [
    "p_nonpreferred = model.predict(X_train)\n",
    "print(p_nonpreferred [:2])\n",
    "print(\"largest value\", np.max(p_nonpreferred), \"smallest value\", np.min(p_nonpreferred))"
   ]
  },
  {
   "cell_type": "code",
   "execution_count": 13,
   "metadata": {},
   "outputs": [
    {
     "name": "stderr",
     "output_type": "stream",
     "text": [
      "WARNING:absl:At this time, the v2.11+ optimizer `tf.keras.optimizers.Adam` runs slowly on M1/M2 Macs, please use the legacy Keras optimizer instead, located at `tf.keras.optimizers.legacy.Adam`.\n",
      "WARNING:absl:There is a known slowdown when using v2.11+ Keras optimizers on M1/M2 Macs. Falling back to the legacy Keras optimizer, i.e., `tf.keras.optimizers.legacy.Adam`.\n"
     ]
    },
    {
     "name": "stdout",
     "output_type": "stream",
     "text": [
      "Epoch 1/10\n",
      "63/63 [==============================] - 3s 23ms/step - loss: 0.7918\n",
      "Epoch 2/10\n",
      "63/63 [==============================] - 0s 8ms/step - loss: 0.2655\n",
      "Epoch 3/10\n",
      "63/63 [==============================] - 1s 9ms/step - loss: 0.1351\n",
      "Epoch 4/10\n",
      "63/63 [==============================] - 1s 8ms/step - loss: 0.0912\n",
      "Epoch 5/10\n",
      "63/63 [==============================] - 1s 8ms/step - loss: 0.0714\n",
      "Epoch 6/10\n",
      "63/63 [==============================] - 1s 8ms/step - loss: 0.0606\n",
      "Epoch 7/10\n",
      "63/63 [==============================] - 0s 8ms/step - loss: 0.0540\n",
      "Epoch 8/10\n",
      "63/63 [==============================] - 0s 8ms/step - loss: 0.0485\n",
      "Epoch 9/10\n",
      "63/63 [==============================] - 0s 8ms/step - loss: 0.0444\n",
      "Epoch 10/10\n",
      "63/63 [==============================] - 0s 8ms/step - loss: 0.0410\n"
     ]
    },
    {
     "data": {
      "text/plain": [
       "<keras.src.callbacks.History at 0x29a1cdca0>"
      ]
     },
     "execution_count": 13,
     "metadata": {},
     "output_type": "execute_result"
    }
   ],
   "source": [
    "preferred_model = Sequential(\n",
    "    [ \n",
    "        Dense(25, activation = 'relu'),\n",
    "        Dense(15, activation = 'relu'),\n",
    "        Dense(4, activation = 'linear')   #<-- Note\n",
    "    ]\n",
    ")\n",
    "preferred_model.compile(\n",
    "    loss=tf.keras.losses.SparseCategoricalCrossentropy(from_logits=True),  #<-- Note\n",
    "    optimizer=tf.keras.optimizers.Adam(0.001),\n",
    ")\n",
    "\n",
    "preferred_model.fit(\n",
    "    X_train,y_train,\n",
    "    epochs=10\n",
    ")\n",
    "       "
   ]
  },
  {
   "cell_type": "code",
   "execution_count": 14,
   "metadata": {},
   "outputs": [
    {
     "name": "stdout",
     "output_type": "stream",
     "text": [
      "63/63 [==============================] - 1s 7ms/step\n",
      "two example output vectors:\n",
      " [[-3.832939   -3.338976    2.7534573  -0.5013954 ]\n",
      " [ 4.6883416  -0.37896216 -4.463575   -8.111472  ]]\n",
      "largest value 11.2758875 smallest value -11.505201\n"
     ]
    }
   ],
   "source": [
    "p_preferred = preferred_model.predict(X_train)\n",
    "print(f\"two example output vectors:\\n {p_preferred[:2]}\")\n",
    "print(\"largest value\", np.max(p_preferred), \"smallest value\", np.min(p_preferred))"
   ]
  },
  {
   "cell_type": "code",
   "execution_count": 15,
   "metadata": {},
   "outputs": [
    {
     "name": "stdout",
     "output_type": "stream",
     "text": [
      "two example output vectors:\n",
      " [[1.3231308e-03 2.1683448e-03 9.5948541e-01 3.7023179e-02]\n",
      " [9.9363273e-01 6.2592714e-03 1.0534139e-04 2.7437034e-06]]\n",
      "largest value 1.0 smallest value 2.5269729e-09\n"
     ]
    }
   ],
   "source": [
    "sm_preferred = tf.nn.softmax(p_preferred).numpy()\n",
    "print(f\"two example output vectors:\\n {sm_preferred[:2]}\")\n",
    "print(\"largest value\", np.max(sm_preferred), \"smallest value\", np.min(sm_preferred))"
   ]
  },
  {
   "cell_type": "code",
   "execution_count": 16,
   "metadata": {},
   "outputs": [
    {
     "name": "stdout",
     "output_type": "stream",
     "text": [
      "[-3.832939  -3.338976   2.7534573 -0.5013954], category: 2\n",
      "[ 4.6883416  -0.37896216 -4.463575   -8.111472  ], category: 0\n",
      "[ 3.3673778   0.12430378 -3.5789936  -6.422926  ], category: 0\n",
      "[-2.2490363  4.181399  -3.1093087 -2.4159923], category: 1\n",
      "[-2.697525  -4.483143   3.6414475 -2.8406577], category: 2\n"
     ]
    }
   ],
   "source": [
    "for i in range(5):\n",
    "    print( f\"{p_preferred[i]}, category: {np.argmax(p_preferred[i])}\")"
   ]
  }
 ],
 "metadata": {
  "kernelspec": {
   "display_name": "Python 3",
   "language": "python",
   "name": "python3"
  },
  "language_info": {
   "codemirror_mode": {
    "name": "ipython",
    "version": 3
   },
   "file_extension": ".py",
   "mimetype": "text/x-python",
   "name": "python",
   "nbconvert_exporter": "python",
   "pygments_lexer": "ipython3",
   "version": "3.8.16"
  }
 },
 "nbformat": 4,
 "nbformat_minor": 2
}
